{
 "cells": [
  {
   "cell_type": "code",
   "execution_count": 7,
   "id": "034ea63b-c232-4db0-9bfb-1fce916073c2",
   "metadata": {
    "tags": []
   },
   "outputs": [],
   "source": [
    "import pandas as pd\n",
    "from sklearn.model_selection import train_test_split\n",
    "from sklearn.preprocessing import StandardScaler\n",
    "from sklearn.svm import SVC\n",
    "from sklearn.linear_model import LogisticRegression\n",
    "from sklearn.metrics import accuracy_score, classification_report"
   ]
  },
  {
   "cell_type": "code",
   "execution_count": 13,
   "id": "630018bb-1fde-4f8e-a727-58da1f1c6e5a",
   "metadata": {
    "tags": []
   },
   "outputs": [],
   "source": [
    "class Modelo():\n",
    "    def __init__(self):\n",
    "        self.df = None\n",
    "        self.X_train = None\n",
    "        self.X_test = None\n",
    "        self.y_train = None\n",
    "        self.y_test = None\n",
    "        self.modelos = {}\n",
    "\n",
    "    def CarregarDataset(self, path):\n",
    "        \"\"\"\n",
    "        Carregamento do conjunto de dados a partir de um arquivo CSV.\n",
    "\n",
    "        Parâmetros:\n",
    "        - path (str): Caminho para o arquivo CSV contendo o dataset.\n",
    "        \"\"\"\n",
    "        names = ['SepalLengthCm', 'SepalWidthCm', 'PetalLengthCm', 'PetalWidthCm', 'Species']\n",
    "        self.df = pd.read_csv(path, names=names)\n",
    "\n",
    "    def TratamentoDeDados(self):\n",
    "        \"\"\"\n",
    "        Realização do pré-processamento dos dados carregados.\n",
    "        \"\"\"\n",
    "        # Verificar valores ausentes e remover se necessário\n",
    "        self.df.dropna(inplace=True)\n",
    "\n",
    "        # Separar features (X) e target (y)\n",
    "        X = self.df.drop(\"Species\", axis=1)\n",
    "        y = self.df[\"Species\"]\n",
    "\n",
    "        # Dividir em conjuntos de treino e teste\n",
    "        self.X_train, self.X_test, self.y_train, self.y_test = train_test_split(X, y, test_size=0.2, random_state=42)\n",
    "\n",
    "        # Normalizar os dados\n",
    "        scaler = StandardScaler()\n",
    "        self.X_train = scaler.fit_transform(self.X_train)\n",
    "        self.X_test = scaler.transform(self.X_test)\n",
    "\n",
    "    def Treinamento(self):\n",
    "        \"\"\"\n",
    "        Treinamanto dos dois modelos de machine learning: SVM e Regressão Logística.\n",
    "        \"\"\"\n",
    "        # Modelo SVM\n",
    "        svm_model = SVC(kernel='linear', random_state=42)\n",
    "        svm_model.fit(self.X_train, self.y_train)\n",
    "        self.modelos['SVM'] = svm_model\n",
    "\n",
    "        # Modelo Regressão Logística\n",
    "        lr_model = LogisticRegression(random_state=42)\n",
    "        lr_model.fit(self.X_train, self.y_train)\n",
    "        self.modelos['LogisticRegression'] = lr_model\n",
    "\n",
    "    def Teste(self):\n",
    "        \"\"\"\n",
    "        Avaliação do desempenho dos modelos treinados nos dados de teste.\n",
    "        \"\"\"\n",
    "        for nome, modelo in self.modelos.items():\n",
    "            y_pred = modelo.predict(self.X_test)\n",
    "            acc = accuracy_score(self.y_test, y_pred)\n",
    "            print(f\"\\nModelo: {nome}\")\n",
    "            print(f\"Acurácia: {acc:.2f}\")\n",
    "            print(classification_report(self.y_test, y_pred))\n",
    "    def Train(self):\n",
    "        \"\"\"\n",
    "        Função principal para executar o fluxo de treinamento e avaliação.\n",
    "        \"\"\"\n",
    "        dataset_path = \"iris.data\"  # Ajuste o caminho conforme necessário\n",
    "        self.CarregarDataset(dataset_path)\n",
    "        self.TratamentoDeDados()\n",
    "        self.Treinamento()\n",
    "        self.Teste()\n"
   ]
  },
  {
   "cell_type": "code",
   "execution_count": 14,
   "id": "12f24d72-4d2f-4b93-bfbb-68d98068e2ae",
   "metadata": {
    "tags": []
   },
   "outputs": [
    {
     "name": "stdout",
     "output_type": "stream",
     "text": [
      "\n",
      "Modelo: SVM\n",
      "Acurácia: 0.97\n",
      "                 precision    recall  f1-score   support\n",
      "\n",
      "    Iris-setosa       1.00      1.00      1.00        10\n",
      "Iris-versicolor       1.00      0.89      0.94         9\n",
      " Iris-virginica       0.92      1.00      0.96        11\n",
      "\n",
      "       accuracy                           0.97        30\n",
      "      macro avg       0.97      0.96      0.97        30\n",
      "   weighted avg       0.97      0.97      0.97        30\n",
      "\n",
      "\n",
      "Modelo: LogisticRegression\n",
      "Acurácia: 1.00\n",
      "                 precision    recall  f1-score   support\n",
      "\n",
      "    Iris-setosa       1.00      1.00      1.00        10\n",
      "Iris-versicolor       1.00      1.00      1.00         9\n",
      " Iris-virginica       1.00      1.00      1.00        11\n",
      "\n",
      "       accuracy                           1.00        30\n",
      "      macro avg       1.00      1.00      1.00        30\n",
      "   weighted avg       1.00      1.00      1.00        30\n",
      "\n"
     ]
    }
   ],
   "source": [
    "# Instanciar e executar\n",
    "modelo = Modelo()\n",
    "modelo.Train()"
   ]
  },
  {
   "cell_type": "code",
   "execution_count": null,
   "id": "e0ed8ad6-be00-457d-8d7e-aaa54fa63f84",
   "metadata": {},
   "outputs": [],
   "source": []
  }
 ],
 "metadata": {
  "kernelspec": {
   "display_name": "Python 3",
   "language": "python",
   "name": "python3"
  },
  "language_info": {
   "codemirror_mode": {
    "name": "ipython",
    "version": 3
   },
   "file_extension": ".py",
   "mimetype": "text/x-python",
   "name": "python",
   "nbconvert_exporter": "python",
   "pygments_lexer": "ipython3",
   "version": "3.7.13"
  }
 },
 "nbformat": 4,
 "nbformat_minor": 5
}
